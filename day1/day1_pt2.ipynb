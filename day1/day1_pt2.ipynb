{
 "cells": [
  {
   "cell_type": "code",
   "execution_count": 48,
   "metadata": {},
   "outputs": [],
   "source": [
    "with open('input.txt') as f:\n",
    "    data = f.readlines()\n",
    "\n",
    "data = [l.strip('\\n') for l in data]"
   ]
  },
  {
   "cell_type": "code",
   "execution_count": 49,
   "metadata": {},
   "outputs": [],
   "source": [
    "equivalent = {\n",
    "    \"one\": \"1\",\n",
    "    \"two\": \"2\",\n",
    "    \"three\": \"3\",\n",
    "    \"four\": \"4\",\n",
    "    \"five\": \"5\",\n",
    "    \"six\": \"6\",\n",
    "    \"seven\": \"7\",\n",
    "    \"eight\": \"8\",\n",
    "    \"nine\": \"9\",\n",
    "    \"1\": \"1\",\n",
    "    \"2\": \"2\",\n",
    "    \"3\": \"3\",\n",
    "    \"4\": \"4\",\n",
    "    \"5\": \"5\",\n",
    "    \"6\": \"6\",\n",
    "    \"7\": \"7\",\n",
    "    \"8\": \"8\",\n",
    "    \"9\": \"9\"\n",
    "}"
   ]
  },
  {
   "cell_type": "code",
   "execution_count": 56,
   "metadata": {},
   "outputs": [
    {
     "name": "stdout",
     "output_type": "stream",
     "text": [
      "Part 2 answer: checksum is 53539\n"
     ]
    }
   ],
   "source": [
    "sum = 0\n",
    "for line in data:\n",
    "    _, _, a = min([(line.find(n), n, d) for n, d in equivalent.items() if line.find(n) >= 0])\n",
    "    _, _, b = max([(line.rfind(n), n, d) for n, d in equivalent.items() if line.rfind(n) >= 0])\n",
    "    sum += int(a + b)\n",
    "    \n",
    "print(f\"Part 2 answer: checksum is {sum}\")"
   ]
  }
 ],
 "metadata": {
  "kernelspec": {
   "display_name": "adventofcode2023",
   "language": "python",
   "name": "python3"
  },
  "language_info": {
   "codemirror_mode": {
    "name": "ipython",
    "version": 3
   },
   "file_extension": ".py",
   "mimetype": "text/x-python",
   "name": "python",
   "nbconvert_exporter": "python",
   "pygments_lexer": "ipython3",
   "version": "3.12.0"
  }
 },
 "nbformat": 4,
 "nbformat_minor": 2
}
