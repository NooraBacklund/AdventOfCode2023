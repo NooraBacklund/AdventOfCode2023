{
 "cells": [
  {
   "cell_type": "code",
   "execution_count": 14,
   "metadata": {},
   "outputs": [
    {
     "data": {
      "text/plain": [
       "['Game 1: 2 green, 6 blue, 7 red; 12 green, 6 blue, 3 red; 5 red, 18 green, 4 blue',\n",
       " 'Game 2: 10 green, 4 red; 2 red; 12 green, 11 red, 1 blue; 1 blue, 11 red, 5 green; 10 red, 9 green, 1 blue',\n",
       " 'Game 3: 3 green; 15 red, 7 blue, 1 green; 3 red, 6 blue, 1 green; 14 blue, 13 red, 2 green; 1 green, 6 blue, 6 red; 16 red, 13 blue, 2 green',\n",
       " 'Game 4: 5 blue; 8 blue, 7 red; 9 blue, 5 red, 4 green; 4 red, 1 green; 8 red, 6 blue; 2 blue, 4 red, 3 green',\n",
       " 'Game 5: 3 blue, 4 red, 10 green; 13 green, 8 blue, 2 red; 2 red, 4 green, 6 blue; 3 blue, 5 green, 2 red; 4 red, 13 blue, 8 green; 9 green, 2 red']"
      ]
     },
     "execution_count": 14,
     "metadata": {},
     "output_type": "execute_result"
    }
   ],
   "source": [
    "with open('input.txt') as f:\n",
    "    data = f.readlines()\n",
    "\n",
    "data = [l.strip('\\n') for l in data]\n",
    "data[0:5]"
   ]
  },
  {
   "cell_type": "code",
   "execution_count": 15,
   "metadata": {},
   "outputs": [
    {
     "name": "stdout",
     "output_type": "stream",
     "text": [
      "70950\n"
     ]
    }
   ],
   "source": [
    "total_power = 0\n",
    "\n",
    "# Split into games and cubes\n",
    "for game in data:\n",
    "    row = game.split(': ')\n",
    "\n",
    "    # Separate game number and picked cubes\n",
    "    game_number, cubes = int(row[0].split(' ')[1]), row[1]\n",
    "\n",
    "    # Replace delimiters to allow easier splitting of cubes\n",
    "    cubes = cubes.replace(';', ',')\n",
    "    cube = cubes.split(', ')\n",
    "\n",
    "    highest_green = max([int(c.split(' ')[0]) for c in cube if c.split(' ')[1] == \"green\"])\n",
    "    highest_red = max([int(c.split(' ')[0]) for c in cube if c.split(' ')[1] == \"red\"])\n",
    "    highest_blue = max([int(c.split(' ')[0]) for c in cube if c.split(' ')[1] == \"blue\"])\n",
    "\n",
    "    total_power += highest_green * highest_red * highest_blue\n",
    "\n",
    "print(total_power)"
   ]
  }
 ],
 "metadata": {
  "kernelspec": {
   "display_name": "adventofcode2023",
   "language": "python",
   "name": "python3"
  },
  "language_info": {
   "codemirror_mode": {
    "name": "ipython",
    "version": 3
   },
   "file_extension": ".py",
   "mimetype": "text/x-python",
   "name": "python",
   "nbconvert_exporter": "python",
   "pygments_lexer": "ipython3",
   "version": "3.12.0"
  }
 },
 "nbformat": 4,
 "nbformat_minor": 2
}
